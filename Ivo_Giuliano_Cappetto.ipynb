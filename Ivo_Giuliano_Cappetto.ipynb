{
  "nbformat": 4,
  "nbformat_minor": 0,
  "metadata": {
    "colab": {
      "provenance": [],
      "authorship_tag": "ABX9TyMPwFgv+vKdcnjoAzPbyk4z",
      "include_colab_link": true
    },
    "kernelspec": {
      "name": "python3",
      "display_name": "Python 3"
    },
    "language_info": {
      "name": "python"
    }
  },
  "cells": [
    {
      "cell_type": "markdown",
      "metadata": {
        "id": "view-in-github",
        "colab_type": "text"
      },
      "source": [
        "<a href=\"https://colab.research.google.com/github/IvoGC23/Git-y-Github---Ivo-Giuliano-Cappetto/blob/main/Ivo_Giuliano_Cappetto.ipynb\" target=\"_parent\"><img src=\"https://colab.research.google.com/assets/colab-badge.svg\" alt=\"Open In Colab\"/></a>"
      ]
    },
    {
      "cell_type": "markdown",
      "source": [
        "**D.N.I:** 46.128.936\n",
        "\n",
        "**Nombre de la carrera:** Desarrollo de Software de Nivel Superior\n",
        "\n",
        "**Año:** 2023\n",
        "\n",
        "**Profesor:** Narciso Pérez\n",
        "\n"
      ],
      "metadata": {
        "id": "RNCluHoPHiKW"
      }
    },
    {
      "cell_type": "markdown",
      "source": [
        "**PARTE I**"
      ],
      "metadata": {
        "id": "jq3cSAo6Wcbf"
      }
    },
    {
      "cell_type": "markdown",
      "source": [
        "**1**) **La proposición ~(q vr) → (r⇒q) se clasifica como:**\n",
        "\n",
        "= Ninguna de las anteriores.\n",
        "\n"
      ],
      "metadata": {
        "id": "_GKxn73wK2jB"
      }
    },
    {
      "cell_type": "markdown",
      "source": [
        "**2) Las proposiciones (qvr) y r⇒q:**\n",
        "\n",
        "c) No son equivalentes."
      ],
      "metadata": {
        "id": "IM_DXC3SMJLF"
      }
    },
    {
      "cell_type": "markdown",
      "source": [
        "**3) Sabiendo que ~(qvr) ←→ (r→q) es verdadera y que ~(qvr) no es verdadera, entonces:**\n",
        "\n",
        "b) r⇒q es falsa."
      ],
      "metadata": {
        "id": "sVY-N9pWNZI-"
      }
    },
    {
      "cell_type": "markdown",
      "source": [
        "**4) Sabiendo que ~(qvr) ←→ (r→q) es verdadera y que ~(qvr) no es verdadera, entonces:**\n",
        "\n",
        "d) q es verdadera y r es falsa."
      ],
      "metadata": {
        "id": "WkpvUh4jNfcM"
      }
    },
    {
      "cell_type": "markdown",
      "source": [
        "**5) Sabiendo que ~(qvr) ←→ (r→q) es verdadera y que ~(qvr) no es verdadera, entonces:**\n",
        "\n",
        "e) Ninguna de las anteriores."
      ],
      "metadata": {
        "id": "TLDAxdfkT7GS"
      }
    },
    {
      "cell_type": "markdown",
      "source": [
        "**6) Si p y q son dos proposiciones falsas,**\n",
        "\n",
        "b) pv(qɅr) es falsa."
      ],
      "metadata": {
        "id": "qJiVhDV2T7zy"
      }
    },
    {
      "cell_type": "markdown",
      "source": [
        "**7) Si p y q son dos proposiciones falsas**\n",
        "\n",
        "c) p⇒(~q←→r) es verdadera."
      ],
      "metadata": {
        "id": "tzfeHpswUNF7"
      }
    },
    {
      "cell_type": "markdown",
      "source": [
        "**8) Dado el razonamiento:\n",
        "\"Guadalupe compró una Notebook con la tarjeta de crédito Colorada o con la tarjeta Originaria. Si compró la Notebook con la tarjeta Originaria entonces consiguió un descuento en su compra. No compró la Notebook con la tarjeta\n",
        "Colorada. En consecuencia Guadalupe consigue el descuento en su compra\".**\n",
        "\n",
        "d) Es un razonamiento deductivo válido."
      ],
      "metadata": {
        "id": "D-7Z4on8VWgz"
      }
    },
    {
      "cell_type": "markdown",
      "source": [
        "**PARTE II**"
      ],
      "metadata": {
        "id": "8VgWOuVTWTEE"
      }
    },
    {
      "cell_type": "markdown",
      "source": [
        "**9) Si compran cuatro botellas de gaseosas de 2 litros cada una al contado, el porcentaje de\n",
        "descuento que reciben por cada botella es:**\n",
        "\n",
        "\n"
      ],
      "metadata": {
        "id": "OSNMPWZwYKU5"
      }
    },
    {
      "cell_type": "code",
      "source": [
        "cantidad_botellas = 4\n",
        "precio_sin_descuento = 90  # Precio de la gaseosa de 2 litros sin descuento\n",
        "precio_con_descuento = 85.5  # Precio de la gaseosa de 2 litros con descuento\n",
        "\n",
        "subtotal_sin_descuento = precio_sin_descuento * cantidad_botellas\n",
        "subtotal_con_descuento = precio_con_descuento * cantidad_botellas\n",
        "\n",
        "total_descuento = subtotal_sin_descuento - subtotal_con_descuento\n",
        "porcentaje_descuento_por_botella = (total_descuento / subtotal_sin_descuento) * 100\n",
        "\n",
        "porcentaje_descuento_por_botella\n"
      ],
      "metadata": {
        "colab": {
          "base_uri": "https://localhost:8080/"
        },
        "id": "5RlAGbtDZu_G",
        "outputId": "b1aad7ac-2cc7-436e-ece3-0318df8b7a0f"
      },
      "execution_count": 3,
      "outputs": [
        {
          "output_type": "execute_result",
          "data": {
            "text/plain": [
              "5.0"
            ]
          },
          "metadata": {},
          "execution_count": 3
        }
      ]
    },
    {
      "cell_type": "markdown",
      "source": [
        "**10) Si compran dos packs de cervezas Duff al contado, deben pagar:**\n"
      ],
      "metadata": {
        "id": "oP83IQGdYSo9"
      }
    },
    {
      "cell_type": "code",
      "source": [
        "precio_pack = 450  # Precio del pack de cervezas Duff sin descuento\n",
        "\n",
        "subtotal = precio_pack * 2  # Precio sin descuento por dos packs\n",
        "\n",
        "descuento_segunda_unidad = precio_pack * 0.45  # Descuento en la segunda unidad\n",
        "subtotal_con_descuento = subtotal - descuento_segunda_unidad\n",
        "\n",
        "subtotal_con_descuento\n"
      ],
      "metadata": {
        "colab": {
          "base_uri": "https://localhost:8080/"
        },
        "id": "IPft9Eeaat85",
        "outputId": "93ddb502-343a-416a-a844-ddd82d5e5e82"
      },
      "execution_count": 4,
      "outputs": [
        {
          "output_type": "execute_result",
          "data": {
            "text/plain": [
              "697.5"
            ]
          },
          "metadata": {},
          "execution_count": 4
        }
      ]
    },
    {
      "cell_type": "markdown",
      "source": [
        "**11) Si compran 4 kg de matambre con la Tarjeta Colorada en tres cuotas de $480 cada\n",
        "una entonces el precio de contado del kilo de matambre es:**"
      ],
      "metadata": {
        "id": "BB4KqRAmclfO"
      }
    },
    {
      "cell_type": "code",
      "source": [
        "monto_total_cuotas = 480 * 3\n",
        "recargo = 0.2\n",
        "\n",
        "monto_total_con_recargo = monto_total_cuotas * (1 + recargo)\n",
        "precio_contado_por_kilo = monto_total_con_recargo / 4\n",
        "\n",
        "precio_contado_por_kilo\n"
      ],
      "metadata": {
        "colab": {
          "base_uri": "https://localhost:8080/"
        },
        "id": "oO90lLozc0aC",
        "outputId": "89b1028a-43c5-4bb2-ec05-be408f8c9fa5"
      },
      "execution_count": 5,
      "outputs": [
        {
          "output_type": "execute_result",
          "data": {
            "text/plain": [
              "432.0"
            ]
          },
          "metadata": {},
          "execution_count": 5
        }
      ]
    },
    {
      "cell_type": "markdown",
      "source": [
        "**12) Si compran 3 botellas de fernet con la Tarjeta Originaria en un solo pago y abonan\n",
        "$663, entonces el precio de contado de una botella de fernet es:**"
      ],
      "metadata": {
        "id": "5mkeM4tfdQay"
      }
    },
    {
      "cell_type": "code",
      "source": [
        "monto_total = 663\n",
        "cantidad_botellas = 3\n",
        "descuento = 0.35\n",
        "\n",
        "precio_original_botella = monto_total / cantidad_botellas\n",
        "precio_contado_botella = precio_original_botella * (1 - descuento)\n",
        "\n",
        "precio_contado_botella\n"
      ],
      "metadata": {
        "colab": {
          "base_uri": "https://localhost:8080/"
        },
        "id": "xUW5lEnudXFm",
        "outputId": "a7b5e717-ab97-42c3-9d35-4c6fa7afc219"
      },
      "execution_count": 6,
      "outputs": [
        {
          "output_type": "execute_result",
          "data": {
            "text/plain": [
              "143.65"
            ]
          },
          "metadata": {},
          "execution_count": 6
        }
      ]
    },
    {
      "cell_type": "markdown",
      "source": [
        "**La cantidad de turistas que no llegaron a Córdoba en micro, en enero de 2023, es:**"
      ],
      "metadata": {
        "id": "U7mZmnlFeHFP"
      }
    },
    {
      "cell_type": "markdown",
      "source": [
        "e)La información es insuficiente"
      ],
      "metadata": {
        "id": "BLf0NvJboBnN"
      }
    },
    {
      "cell_type": "markdown",
      "source": [
        "**¿Cuántos turistas de por lo menos 40 años arribaron a Córdoba en enero de 2020?**\n",
        "\n",
        "e)Depende del medio de transporte."
      ],
      "metadata": {
        "id": "XoQWyQlNoL1z"
      }
    },
    {
      "cell_type": "markdown",
      "source": [
        "**15) La cantidad de turistas de por lo menos 40 años y menos de 30 años que arribaron a\n",
        "Córdoba en enero de 2020 es:**\n",
        "\n",
        "\n"
      ],
      "metadata": {
        "id": "DsmMFeZ6tApX"
      }
    },
    {
      "cell_type": "code",
      "source": [
        "total_turistas = 300000\n",
        "porcentaje_30_40 = 12\n",
        "\n",
        "turistas_30_40 = (porcentaje_30_40 / 100) * total_turistas\n",
        "\n",
        "print(\"Cantidad de turistas de por lo menos 40 años y menos de 30 años en enero de 2020:\", turistas_30_40)\n"
      ],
      "metadata": {
        "colab": {
          "base_uri": "https://localhost:8080/"
        },
        "id": "DA38F21WuPHs",
        "outputId": "f123b2fa-82ad-4142-c362-4f4d2dc725e8"
      },
      "execution_count": 8,
      "outputs": [
        {
          "output_type": "stream",
          "name": "stdout",
          "text": [
            "Cantidad de turistas de por lo menos 40 años y menos de 30 años en enero de 2020: 36000.0\n"
          ]
        }
      ]
    },
    {
      "cell_type": "markdown",
      "source": [
        "c) 0"
      ],
      "metadata": {
        "id": "9bSpN1NQ1L2W"
      }
    },
    {
      "cell_type": "markdown",
      "source": [
        "**16) ¿Qué porcentaje de turistas de 20 años como mínimo o menos de 51 años visitaron la\n",
        "ciudad en enero de 2020?**\n"
      ],
      "metadata": {
        "id": "kNGErn8r1TNR"
      }
    },
    {
      "cell_type": "code",
      "source": [
        "# Porcentaje de turistas por edad\n",
        "edades = [10, 20, 30, 40, 50, 60, 70]\n",
        "porcentajes = [10, 25, 23, 12, 18, 9, 3]\n",
        "\n",
        "# Rangos de edad a considerar\n",
        "edad_minima = 20\n",
        "edad_maxima = 50\n",
        "\n",
        "# Cálculo del porcentaje de turistas de 20 años como mínimo o menos de 51 años\n",
        "porcentaje_total = sum(porcentajes)\n",
        "porcentaje_deseado = sum([porcentaje for edad, porcentaje in zip(edades, porcentajes) if edad >= edad_minima and edad <= edad_maxima])\n",
        "\n",
        "resultado = (porcentaje_deseado / porcentaje_total) * 100\n",
        "\n",
        "print(\"El porcentaje de turistas de 20 años como mínimo o menos de 51 años es: %.2f%%\" % resultado)\n"
      ],
      "metadata": {
        "colab": {
          "base_uri": "https://localhost:8080/"
        },
        "id": "kHlL3NtU2zHY",
        "outputId": "3cfb0f34-d8c3-4f69-eb2b-b550aa2a1790"
      },
      "execution_count": 9,
      "outputs": [
        {
          "output_type": "stream",
          "name": "stdout",
          "text": [
            "El porcentaje de turistas de 20 años como mínimo o menos de 51 años es: 78.00%\n"
          ]
        }
      ]
    },
    {
      "cell_type": "markdown",
      "source": [
        "b) La información es insuficiente para establecer el porcentaje."
      ],
      "metadata": {
        "id": "gOnMIR9o4a8J"
      }
    },
    {
      "cell_type": "markdown",
      "source": [
        "**17) La variable en estudio es:**"
      ],
      "metadata": {
        "id": "DADm2j-p4e5Q"
      }
    },
    {
      "cell_type": "markdown",
      "source": [
        "d) Ventas diarias (en pesos) de una empresa de servicios de transporte."
      ],
      "metadata": {
        "id": "dDgsmJAm7En8"
      }
    },
    {
      "cell_type": "markdown",
      "source": [
        "**18) Según su naturaleza, esta variable se clasifica como:**"
      ],
      "metadata": {
        "id": "8Zy_Onht7LVP"
      }
    },
    {
      "cell_type": "markdown",
      "source": [
        "b) Cuantitativa discreta."
      ],
      "metadata": {
        "id": "cc_2lcmE7N0r"
      }
    },
    {
      "cell_type": "markdown",
      "source": [
        "**19) ¿En cuántos días se registraron ventas de no menos de $1330?**"
      ],
      "metadata": {
        "id": "Td2NSKUA7_pF"
      }
    },
    {
      "cell_type": "markdown",
      "source": [
        "a)42"
      ],
      "metadata": {
        "id": "soSnkBrx840f"
      }
    },
    {
      "cell_type": "markdown",
      "source": [
        "**20) ¿En qué porcentaje de días se registraron ventas de menos de $1530?**\n",
        "\n",
        "a)70%\n"
      ],
      "metadata": {
        "id": "0aO-v5lz87df"
      }
    }
  ]
}